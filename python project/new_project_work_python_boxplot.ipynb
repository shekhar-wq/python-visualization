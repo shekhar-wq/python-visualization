{
 "cells": [
  {
   "cell_type": "code",
   "execution_count": 1,
   "id": "c08cf05f",
   "metadata": {},
   "outputs": [],
   "source": [
    "import numpy as np #imported numpy library"
   ]
  },
  {
   "cell_type": "code",
   "execution_count": 2,
   "id": "a811bbf1",
   "metadata": {},
   "outputs": [],
   "source": [
    "import pandas as pd # imported pandas library"
   ]
  },
  {
   "cell_type": "code",
   "execution_count": 3,
   "id": "34f6ed0c",
   "metadata": {},
   "outputs": [],
   "source": [
    "import seaborn as sns # imported seaborn library"
   ]
  },
  {
   "cell_type": "code",
   "execution_count": 4,
   "id": "996b3178",
   "metadata": {},
   "outputs": [],
   "source": [
    "import matplotlib.pyplot as plt # imported matplot library\n",
    "%matplotlib inline # inline function will allow us to see the approaching jupyter notebook."
   ]
  },
  {
   "cell_type": "code",
   "execution_count": 6,
   "id": "5a7f7612",
   "metadata": {},
   "outputs": [],
   "source": [
    "#to load the data set from excelfile into jupyter environment\n",
    "dataset = pd.read_excel(\"C:/Users/subed/OneDrive/Desktop/garments_worker_productivity.xlsx\")"
   ]
  },
  {
   "cell_type": "code",
   "execution_count": 7,
   "id": "a4205b53",
   "metadata": {},
   "outputs": [
    {
     "data": {
      "text/html": [
       "<div>\n",
       "<style scoped>\n",
       "    .dataframe tbody tr th:only-of-type {\n",
       "        vertical-align: middle;\n",
       "    }\n",
       "\n",
       "    .dataframe tbody tr th {\n",
       "        vertical-align: top;\n",
       "    }\n",
       "\n",
       "    .dataframe thead th {\n",
       "        text-align: right;\n",
       "    }\n",
       "</style>\n",
       "<table border=\"1\" class=\"dataframe\">\n",
       "  <thead>\n",
       "    <tr style=\"text-align: right;\">\n",
       "      <th></th>\n",
       "      <th>date</th>\n",
       "      <th>quarter</th>\n",
       "      <th>department</th>\n",
       "      <th>day</th>\n",
       "      <th>team</th>\n",
       "      <th>targeted_productivity</th>\n",
       "      <th>smv</th>\n",
       "      <th>wip</th>\n",
       "      <th>over_time</th>\n",
       "      <th>incentive</th>\n",
       "      <th>idle_time</th>\n",
       "      <th>idle_men</th>\n",
       "      <th>no_of_style_change</th>\n",
       "      <th>no_of_workers</th>\n",
       "      <th>actual_productivity</th>\n",
       "    </tr>\n",
       "  </thead>\n",
       "  <tbody>\n",
       "    <tr>\n",
       "      <th>0</th>\n",
       "      <td>2015-01-01</td>\n",
       "      <td>Quarter1</td>\n",
       "      <td>sweing</td>\n",
       "      <td>Thursday</td>\n",
       "      <td>8</td>\n",
       "      <td>0.80</td>\n",
       "      <td>26.16</td>\n",
       "      <td>1108.0</td>\n",
       "      <td>7080</td>\n",
       "      <td>98</td>\n",
       "      <td>0.0</td>\n",
       "      <td>0</td>\n",
       "      <td>0</td>\n",
       "      <td>59.0</td>\n",
       "      <td>0.940725</td>\n",
       "    </tr>\n",
       "    <tr>\n",
       "      <th>1</th>\n",
       "      <td>2015-01-01</td>\n",
       "      <td>Quarter1</td>\n",
       "      <td>finishing</td>\n",
       "      <td>Thursday</td>\n",
       "      <td>1</td>\n",
       "      <td>0.75</td>\n",
       "      <td>3.94</td>\n",
       "      <td>NaN</td>\n",
       "      <td>960</td>\n",
       "      <td>0</td>\n",
       "      <td>0.0</td>\n",
       "      <td>0</td>\n",
       "      <td>0</td>\n",
       "      <td>8.0</td>\n",
       "      <td>0.886500</td>\n",
       "    </tr>\n",
       "    <tr>\n",
       "      <th>2</th>\n",
       "      <td>2015-01-01</td>\n",
       "      <td>Quarter1</td>\n",
       "      <td>sweing</td>\n",
       "      <td>Thursday</td>\n",
       "      <td>11</td>\n",
       "      <td>0.80</td>\n",
       "      <td>11.41</td>\n",
       "      <td>968.0</td>\n",
       "      <td>3660</td>\n",
       "      <td>50</td>\n",
       "      <td>0.0</td>\n",
       "      <td>0</td>\n",
       "      <td>0</td>\n",
       "      <td>30.5</td>\n",
       "      <td>0.800570</td>\n",
       "    </tr>\n",
       "    <tr>\n",
       "      <th>3</th>\n",
       "      <td>2015-01-01</td>\n",
       "      <td>Quarter1</td>\n",
       "      <td>sweing</td>\n",
       "      <td>Thursday</td>\n",
       "      <td>12</td>\n",
       "      <td>0.80</td>\n",
       "      <td>11.41</td>\n",
       "      <td>968.0</td>\n",
       "      <td>3660</td>\n",
       "      <td>50</td>\n",
       "      <td>0.0</td>\n",
       "      <td>0</td>\n",
       "      <td>0</td>\n",
       "      <td>30.5</td>\n",
       "      <td>0.800570</td>\n",
       "    </tr>\n",
       "    <tr>\n",
       "      <th>4</th>\n",
       "      <td>2015-01-01</td>\n",
       "      <td>Quarter1</td>\n",
       "      <td>sweing</td>\n",
       "      <td>Thursday</td>\n",
       "      <td>6</td>\n",
       "      <td>0.80</td>\n",
       "      <td>25.90</td>\n",
       "      <td>1170.0</td>\n",
       "      <td>1920</td>\n",
       "      <td>50</td>\n",
       "      <td>0.0</td>\n",
       "      <td>0</td>\n",
       "      <td>0</td>\n",
       "      <td>56.0</td>\n",
       "      <td>0.800382</td>\n",
       "    </tr>\n",
       "    <tr>\n",
       "      <th>...</th>\n",
       "      <td>...</td>\n",
       "      <td>...</td>\n",
       "      <td>...</td>\n",
       "      <td>...</td>\n",
       "      <td>...</td>\n",
       "      <td>...</td>\n",
       "      <td>...</td>\n",
       "      <td>...</td>\n",
       "      <td>...</td>\n",
       "      <td>...</td>\n",
       "      <td>...</td>\n",
       "      <td>...</td>\n",
       "      <td>...</td>\n",
       "      <td>...</td>\n",
       "      <td>...</td>\n",
       "    </tr>\n",
       "    <tr>\n",
       "      <th>1192</th>\n",
       "      <td>2015-03-11</td>\n",
       "      <td>Quarter2</td>\n",
       "      <td>finishing</td>\n",
       "      <td>Wednesday</td>\n",
       "      <td>10</td>\n",
       "      <td>0.75</td>\n",
       "      <td>2.90</td>\n",
       "      <td>NaN</td>\n",
       "      <td>960</td>\n",
       "      <td>0</td>\n",
       "      <td>0.0</td>\n",
       "      <td>0</td>\n",
       "      <td>0</td>\n",
       "      <td>8.0</td>\n",
       "      <td>0.628333</td>\n",
       "    </tr>\n",
       "    <tr>\n",
       "      <th>1193</th>\n",
       "      <td>2015-03-11</td>\n",
       "      <td>Quarter2</td>\n",
       "      <td>finishing</td>\n",
       "      <td>Wednesday</td>\n",
       "      <td>8</td>\n",
       "      <td>0.70</td>\n",
       "      <td>3.90</td>\n",
       "      <td>NaN</td>\n",
       "      <td>960</td>\n",
       "      <td>0</td>\n",
       "      <td>0.0</td>\n",
       "      <td>0</td>\n",
       "      <td>0</td>\n",
       "      <td>8.0</td>\n",
       "      <td>0.625625</td>\n",
       "    </tr>\n",
       "    <tr>\n",
       "      <th>1194</th>\n",
       "      <td>2015-03-11</td>\n",
       "      <td>Quarter2</td>\n",
       "      <td>finishing</td>\n",
       "      <td>Wednesday</td>\n",
       "      <td>7</td>\n",
       "      <td>0.65</td>\n",
       "      <td>3.90</td>\n",
       "      <td>NaN</td>\n",
       "      <td>960</td>\n",
       "      <td>0</td>\n",
       "      <td>0.0</td>\n",
       "      <td>0</td>\n",
       "      <td>0</td>\n",
       "      <td>8.0</td>\n",
       "      <td>0.625625</td>\n",
       "    </tr>\n",
       "    <tr>\n",
       "      <th>1195</th>\n",
       "      <td>2015-03-11</td>\n",
       "      <td>Quarter2</td>\n",
       "      <td>finishing</td>\n",
       "      <td>Wednesday</td>\n",
       "      <td>9</td>\n",
       "      <td>0.75</td>\n",
       "      <td>2.90</td>\n",
       "      <td>NaN</td>\n",
       "      <td>1800</td>\n",
       "      <td>0</td>\n",
       "      <td>0.0</td>\n",
       "      <td>0</td>\n",
       "      <td>0</td>\n",
       "      <td>15.0</td>\n",
       "      <td>0.505889</td>\n",
       "    </tr>\n",
       "    <tr>\n",
       "      <th>1196</th>\n",
       "      <td>2015-03-11</td>\n",
       "      <td>Quarter2</td>\n",
       "      <td>finishing</td>\n",
       "      <td>Wednesday</td>\n",
       "      <td>6</td>\n",
       "      <td>0.70</td>\n",
       "      <td>2.90</td>\n",
       "      <td>NaN</td>\n",
       "      <td>720</td>\n",
       "      <td>0</td>\n",
       "      <td>0.0</td>\n",
       "      <td>0</td>\n",
       "      <td>0</td>\n",
       "      <td>6.0</td>\n",
       "      <td>0.394722</td>\n",
       "    </tr>\n",
       "  </tbody>\n",
       "</table>\n",
       "<p>1197 rows × 15 columns</p>\n",
       "</div>"
      ],
      "text/plain": [
       "           date   quarter  department        day  team  targeted_productivity  \\\n",
       "0    2015-01-01  Quarter1      sweing   Thursday     8                   0.80   \n",
       "1    2015-01-01  Quarter1  finishing    Thursday     1                   0.75   \n",
       "2    2015-01-01  Quarter1      sweing   Thursday    11                   0.80   \n",
       "3    2015-01-01  Quarter1      sweing   Thursday    12                   0.80   \n",
       "4    2015-01-01  Quarter1      sweing   Thursday     6                   0.80   \n",
       "...         ...       ...         ...        ...   ...                    ...   \n",
       "1192 2015-03-11  Quarter2   finishing  Wednesday    10                   0.75   \n",
       "1193 2015-03-11  Quarter2   finishing  Wednesday     8                   0.70   \n",
       "1194 2015-03-11  Quarter2   finishing  Wednesday     7                   0.65   \n",
       "1195 2015-03-11  Quarter2   finishing  Wednesday     9                   0.75   \n",
       "1196 2015-03-11  Quarter2   finishing  Wednesday     6                   0.70   \n",
       "\n",
       "        smv     wip  over_time  incentive  idle_time  idle_men  \\\n",
       "0     26.16  1108.0       7080         98        0.0         0   \n",
       "1      3.94     NaN        960          0        0.0         0   \n",
       "2     11.41   968.0       3660         50        0.0         0   \n",
       "3     11.41   968.0       3660         50        0.0         0   \n",
       "4     25.90  1170.0       1920         50        0.0         0   \n",
       "...     ...     ...        ...        ...        ...       ...   \n",
       "1192   2.90     NaN        960          0        0.0         0   \n",
       "1193   3.90     NaN        960          0        0.0         0   \n",
       "1194   3.90     NaN        960          0        0.0         0   \n",
       "1195   2.90     NaN       1800          0        0.0         0   \n",
       "1196   2.90     NaN        720          0        0.0         0   \n",
       "\n",
       "      no_of_style_change  no_of_workers  actual_productivity  \n",
       "0                      0           59.0             0.940725  \n",
       "1                      0            8.0             0.886500  \n",
       "2                      0           30.5             0.800570  \n",
       "3                      0           30.5             0.800570  \n",
       "4                      0           56.0             0.800382  \n",
       "...                  ...            ...                  ...  \n",
       "1192                   0            8.0             0.628333  \n",
       "1193                   0            8.0             0.625625  \n",
       "1194                   0            8.0             0.625625  \n",
       "1195                   0           15.0             0.505889  \n",
       "1196                   0            6.0             0.394722  \n",
       "\n",
       "[1197 rows x 15 columns]"
      ]
     },
     "execution_count": 7,
     "metadata": {},
     "output_type": "execute_result"
    }
   ],
   "source": [
    "dataset # calling dataset.it shows first five and last five rows with all columns headings.\n",
    "# dimention of dataset = 1197 rows × 15 columns"
   ]
  },
  {
   "cell_type": "code",
   "execution_count": 8,
   "id": "c2e35ade",
   "metadata": {},
   "outputs": [
    {
     "data": {
      "text/plain": [
       "Index(['date', 'quarter', 'department', 'day', 'team', 'targeted_productivity',\n",
       "       'smv', 'wip', 'over_time', 'incentive', 'idle_time', 'idle_men',\n",
       "       'no_of_style_change', 'no_of_workers', 'actual_productivity'],\n",
       "      dtype='object')"
      ]
     },
     "execution_count": 8,
     "metadata": {},
     "output_type": "execute_result"
    }
   ],
   "source": [
    "dataset.columns # this displays all the columns name in console\n",
    "#smv = standard minute value\n",
    "#wip= work in progress\n",
    "# over_time = amount of overtime done by each team in minute\n",
    "# targeted_productivity: is productivity set by authority for each team for each day\n",
    "# actual_productivity : is the productivity delivered by workers in % ( from 0 to 1)"
   ]
  },
  {
   "cell_type": "code",
   "execution_count": 14,
   "id": "ec2cc108",
   "metadata": {},
   "outputs": [
    {
     "data": {
      "image/png": "[encoded data removed]",
      "text/plain": [
       "<Figure size 432x288 with 1 Axes>"
      ]
     },
     "metadata": {
      "needs_background": "light"
     },
     "output_type": "display_data"
    }
   ],
   "source": [
    "#plotting box_plot\n",
    "''' Introduction of box_plot\n",
    "A box plot is a graphical display of the distribution of data.\n",
    "It helps to interpret data on the basis of 5 key numbers.\n",
    "They are minimum, first quartile, median, third quartile and maximum with outliers.\n",
    "IQR: distance between first and third quartile.\n",
    "Whiskers: lines beyonds the IQR ( = 1.5* IQR on either side)\n",
    "Outliners: numbers beyonds the minimum and maximum points.\n",
    "'''\n",
    "# what inference can we get from box plot/ Applications\n",
    "# About the median value of data\n",
    "# About the distribution of data (either unifrom or skewed)/Symmetry of data\n",
    "# About the degree of dispersion of data \n",
    "# outliners values\n",
    "# data skewness\n",
    "\n",
    "plt.boxplot(dataset.over_time)    # Creating plot\n",
    "plt.ylabel('over_time pay')\n",
    "plt.title('A Boxplot')\n",
    "plt.grid(True)\n",
    "plt.show()   # show plot\n",
    "# By defalult it is single horizontal box plot."
   ]
  },
  {
   "cell_type": "code",
   "execution_count": 15,
   "id": "18662a7d",
   "metadata": {},
   "outputs": [
    {
     "data": {
      "image/png": "[encoded data removed]",
      "text/plain": [
       "<Figure size 432x288 with 1 Axes>"
      ]
     },
     "metadata": {
      "needs_background": "light"
     },
     "output_type": "display_data"
    }
   ],
   "source": [
    "plt.boxplot(dataset['team'],vert = False,showmeans=True,) # showing single horizontal box \n",
    "plt.xlabel('team')\n",
    "plt.title('A Boxplot')\n",
    "plt.grid(True)\n",
    "plt.show()\n",
    "# We can conclude from this data that The  members are uniformly distributed in each team.\n",
    "# the team members are (from 1 to 12) "
   ]
  },
  {
   "cell_type": "code",
   "execution_count": 33,
   "id": "4fc07557",
   "metadata": {},
   "outputs": [
    {
     "data": {
      "text/plain": [
       "'we got three department, where the targeted productivity is almost equal to 0.8(around 80% )\\nwith minimum value of 0.6'"
      ]
     },
     "execution_count": 33,
     "metadata": {},
     "output_type": "execute_result"
    },
    {
     "data": {
      "image/png": "[encoded data removed]",
      "text/plain": [
       "<Figure size 432x288 with 1 Axes>"
      ]
     },
     "metadata": {
      "needs_background": "light"
     },
     "output_type": "display_data"
    }
   ],
   "source": [
    "sns.boxplot(x='department',y='targeted_productivity',data = dataset)\n",
    "\n",
    "'''we got three department, where the targeted productivity is almost equal to 0.8 of median value(around 80% )\n",
    "with minimum value of 0.6''' \n"
   ]
  },
  {
   "cell_type": "code",
   "execution_count": 34,
   "id": "8bda5b7d",
   "metadata": {},
   "outputs": [
    {
     "data": {
      "text/plain": [
       "<AxesSubplot:xlabel='department', ylabel='actual_productivity'>"
      ]
     },
     "execution_count": 34,
     "metadata": {},
     "output_type": "execute_result"
    },
    {
     "data": {
      "image/png": "[encoded data removed]",
      "text/plain": [
       "<Figure size 432x288 with 1 Axes>"
      ]
     },
     "metadata": {
      "needs_background": "light"
     },
     "output_type": "display_data"
    }
   ],
   "source": [
    "sns.boxplot(x='department', y='actual_productivity',data = dataset)\n",
    "'''But what we got is the actual productivity is better than the expected one. that means the data is showing\n",
    "higher efficiency in result.\n",
    "The finishing department has highest actual_productivity of around \n",
    "'''\n",
    "# By compairing the data result of we can say that the workers and working environment is better than expected."
   ]
  },
  {
   "cell_type": "code",
   "execution_count": 35,
   "id": "77c113d7",
   "metadata": {
    "scrolled": true
   },
   "outputs": [
    {
     "data": {
      "text/plain": [
       "<AxesSubplot:xlabel='day', ylabel='actual_productivity'>"
      ]
     },
     "execution_count": 35,
     "metadata": {},
     "output_type": "execute_result"
    },
    {
     "data": {
      "image/png": "[encoded data removed]",
      "text/plain": [
       "<Figure size 432x288 with 1 Axes>"
      ]
     },
     "metadata": {
      "needs_background": "light"
     },
     "output_type": "display_data"
    }
   ],
   "source": [
    "sns.boxplot(x='day', y='actual_productivity',data = dataset)\n",
    "# we see that the productivity is highest in saturday than other days."
   ]
  },
  {
   "cell_type": "code",
   "execution_count": 37,
   "id": "1b803385",
   "metadata": {
    "scrolled": true
   },
   "outputs": [
    {
     "data": {
      "text/plain": [
       "<AxesSubplot:xlabel='team', ylabel='actual_productivity'>"
      ]
     },
     "execution_count": 37,
     "metadata": {},
     "output_type": "execute_result"
    },
    {
     "data": {
      "image/png": "[encoded data removed]",
      "text/plain": [
       "<Figure size 432x288 with 1 Axes>"
      ]
     },
     "metadata": {
      "needs_background": "light"
     },
     "output_type": "display_data"
    }
   ],
   "source": [
    "sns.boxplot(x='team', y='actual_productivity',data = dataset,)\n",
    "# we can conclude that the team1 is showing more productive work and team 7 is showing less productive work"
   ]
  },
  {
   "cell_type": "code",
   "execution_count": 43,
   "id": "30d581d5",
   "metadata": {
    "scrolled": true
   },
   "outputs": [
    {
     "data": {
      "text/plain": [
       "[]"
      ]
     },
     "execution_count": 43,
     "metadata": {},
     "output_type": "execute_result"
    },
    {
     "data": {
      "image/png": "[encoded data removed]",
      "text/plain": [
       "<Figure size 432x288 with 1 Axes>"
      ]
     },
     "metadata": {
      "needs_background": "light"
     },
     "output_type": "display_data"
    }
   ],
   "source": [
    "sns.boxplot(y='incentive', x='department',data = dataset)\n",
    "# We see that only sweing department got incentive though the actual_productivity of finishing department is more."
   ]
  },
  {
   "cell_type": "code",
   "execution_count": 44,
   "id": "eee53636",
   "metadata": {
    "scrolled": true
   },
   "outputs": [
    {
     "data": {
      "text/plain": [
       "<AxesSubplot:xlabel='department', ylabel='over_time'>"
      ]
     },
     "execution_count": 44,
     "metadata": {},
     "output_type": "execute_result"
    },
    {
     "data": {
      "image/png": "[encoded data removed]",
      "text/plain": [
       "<Figure size 432x288 with 1 Axes>"
      ]
     },
     "metadata": {
      "needs_background": "light"
     },
     "output_type": "display_data"
    }
   ],
   "source": [
    "sns.boxplot(x='department', y='over_time',data = dataset)\n",
    "# We see the overtime pay is also highest in sewng department."
   ]
  },
  {
   "cell_type": "code",
   "execution_count": 46,
   "id": "0e2fcf74",
   "metadata": {},
   "outputs": [
    {
     "data": {
      "text/plain": [
       "<AxesSubplot:xlabel='team', ylabel='over_time'>"
      ]
     },
     "execution_count": 46,
     "metadata": {},
     "output_type": "execute_result"
    },
    {
     "data": {
      "image/png": "[encoded data removed]",
      "text/plain": [
       "<Figure size 432x288 with 1 Axes>"
      ]
     },
     "metadata": {
      "needs_background": "light"
     },
     "output_type": "display_data"
    }
   ],
   "source": [
    "sns.boxplot(x='team', y='over_time',data = dataset, hue = 'department')\n",
    "# This implies overtime is higest paid in dep 1,4,7,9 of sweing department."
   ]
  },
  {
   "cell_type": "code",
   "execution_count": 52,
   "id": "3a6d2393",
   "metadata": {},
   "outputs": [
    {
     "data": {
      "text/plain": [
       "<AxesSubplot:xlabel='team', ylabel='no_of_workers'>"
      ]
     },
     "execution_count": 52,
     "metadata": {},
     "output_type": "execute_result"
    },
    {
     "data": {
      "image/png": "[encoded data removed]",
      "text/plain": [
       "<Figure size 432x288 with 1 Axes>"
      ]
     },
     "metadata": {
      "needs_background": "light"
     },
     "output_type": "display_data"
    }
   ],
   "source": [
    "sns.boxplot(x='team', y='no_of_workers',data = dataset)\n",
    "# team 6  and 12 has less numbers of workers in comparision of others."
   ]
  },
  {
   "cell_type": "code",
   "execution_count": null,
   "id": "4de5c0e0",
   "metadata": {},
   "outputs": [],
   "source": []
  }
 ],
 "metadata": {
  "kernelspec": {
   "display_name": "Python 3",
   "language": "python",
   "name": "python3"
  },
  "language_info": {
   "codemirror_mode": {
    "name": "ipython",
    "version": 3
   },
   "file_extension": ".py",
   "mimetype": "text/x-python",
   "name": "python",
   "nbconvert_exporter": "python",
   "pygments_lexer": "ipython3",
   "version": "3.8.8"
  }
 },
 "nbformat": 4,
 "nbformat_minor": 5
}
